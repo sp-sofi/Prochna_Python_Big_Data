{
  "nbformat": 4,
  "nbformat_minor": 0,
  "metadata": {
    "colab": {
      "provenance": []
    },
    "kernelspec": {
      "name": "python3",
      "display_name": "Python 3"
    },
    "language_info": {
      "name": "python"
    }
  },
  "cells": [
    {
      "cell_type": "markdown",
      "source": [
        "# I. OOP"
      ],
      "metadata": {
        "id": "5qV_sehzFCTp"
      }
    },
    {
      "cell_type": "markdown",
      "source": [
        "1. (6б). Створіть клас Animal, додайте три атрибути, один з яких має значення за замовчуванням та два методи на свій розсуд."
      ],
      "metadata": {
        "id": "tx_U_hOALyfg"
      }
    },
    {
      "cell_type": "code",
      "source": [
        "class Animal:\n",
        "  def __init__(self, name, art, paws=4):\n",
        "    self.name = name\n",
        "    self.art = art\n",
        "    self.paws = paws\n",
        "\n",
        "  def greetings(self):\n",
        "    print(f\"Hey, ny name is {self.name} and I'm {self.art}\")\n",
        "\n",
        "  def sound(self, sound):\n",
        "    for i in range(1, 4):\n",
        "      print(sound)\n",
        "\n"
      ],
      "metadata": {
        "id": "-Vf895KaL88N"
      },
      "execution_count": 8,
      "outputs": []
    },
    {
      "cell_type": "markdown",
      "source": [
        "2. (2б). Створіть два обʼєкти цього класу, де один з обʼєктів створюється із дефолтним значенням атрибуту. На одному обʼєкті отримайте значення його атрибуту, а на іншому викличте один з його методів."
      ],
      "metadata": {
        "id": "X_UlOMB0L93w"
      }
    },
    {
      "cell_type": "code",
      "source": [
        "animal1 = Animal(\"Richy\", \"Puppy\")\n",
        "animal2 = Animal(\"Fredy\", \"Bird\", 2)\n",
        "print(\"Method called: \")\n",
        "animal1.greetings()\n",
        "print(\"Atribute is printed: \")\n",
        "print(animal2.name)"
      ],
      "metadata": {
        "id": "7gBu0ESOMCpG",
        "colab": {
          "base_uri": "https://localhost:8080/"
        },
        "outputId": "d6846960-4152-4e48-efaa-4c4269438368"
      },
      "execution_count": 9,
      "outputs": [
        {
          "output_type": "stream",
          "name": "stdout",
          "text": [
            "Method called: \n",
            "Hey, ny name is Richy and I'm Puppy\n",
            "Atribute is printed: \n",
            "Fredy\n"
          ]
        }
      ]
    },
    {
      "cell_type": "markdown",
      "source": [
        "3. (5б). Створіть клас, де атрибути мають різні рівні доступу. Спробуйте отримати їхні значення та опишіть результати."
      ],
      "metadata": {
        "id": "HoqSCZt1MHn5"
      }
    },
    {
      "cell_type": "code",
      "source": [
        "class Computer:\n",
        "  def __init__(self, user):\n",
        "    self.user = user    # public\n",
        "    self._weight = 1.2  # protected (умовно незмінний, проте зміни програмою не обмежені)\n",
        "    self.__price = 800  # privite\n",
        "\n",
        "  def get_price(self):\n",
        "    return self.__price\n",
        "\n",
        "comp1 =  Computer(\"Robot\")\n",
        "print(\"Public aтрибут може бути отриманий і змінений: \", comp1.user)\n",
        "print(\"Protected атрибут може бути отриманий і змінений: \", comp1._weight)\n",
        "comp1._weight = 4\n",
        "print(\"Protected атрибут після змін: \", comp1._weight)\n",
        "comp1.__price = 5\n",
        "print(\"Якщо ми будемо намагатися отримати Private атрибут напряму, ми отримаємо помилку, що такого атрибуту не існує. \\nЯкщо щ написати comp1.__price = 5, а потім намагатимся надрукувати атрибут, то нам це вдасться. Але це не зміна  Private атрибуту, \\nа створення нового.Оригінальний __price залишиться незмінним. Зрозуміло, що так кразще ніколи не ргобити \\nОтримати цей атрибут все ж таки можна за допомогою спеціального виклику або гетерів, сетерів та декораторів\")\n",
        "#print(comp1.__price)\n",
        "print(\"Private атрибут залишився незмінним і ми до нбого змогли дістатися: \", comp1._Computer__price)\n",
        "print(\"Private атрибут залишився незмінним і ми до нбого змогли дістатися гетергом: \", comp1.get_price())"
      ],
      "metadata": {
        "id": "r9b3vJxBMSPV",
        "colab": {
          "base_uri": "https://localhost:8080/"
        },
        "outputId": "2a086f62-272f-4dc6-d8e2-816a872c896a"
      },
      "execution_count": 10,
      "outputs": [
        {
          "output_type": "stream",
          "name": "stdout",
          "text": [
            "Public aтрибут може бути отриманий і змінений:  Robot\n",
            "Protected атрибут може бути отриманий і змінений:  1.2\n",
            "Protected атрибут після змін:  4\n",
            "Якщо ми будемо намагатися отримати Private атрибут напряму, ми отримаємо помилку, що такого атрибуту не існує. \n",
            "Якщо щ написати comp1.__price = 5, а потім намагатимся надрукувати атрибут, то нам це вдасться. Але це не зміна  Private атрибуту, \n",
            "а створення нового.Оригінальний __price залишиться незмінним. Зрозуміло, що так кразще ніколи не ргобити \n",
            "Отримати цей атрибут все ж таки можна за допомогою спеціального виклику або гетерів, сетерів та декораторів\n",
            "Private атрибут залишився незмінним і ми до нбого змогли дістатися:  800\n",
            "Private атрибут залишився незмінним і ми до нбого змогли дістатися гетергом:  800\n"
          ]
        }
      ]
    },
    {
      "cell_type": "markdown",
      "source": [
        "4. (7б). Як ви розумієте термін self? Для чого використовується метод __init __?"
      ],
      "metadata": {
        "id": "5op2m2vgMSkZ"
      }
    },
    {
      "cell_type": "markdown",
      "source": [
        "self в мові програмування Python вказує на екземпляр (об'єкт) класу, для якого викликається певний метод. У методах класу, self використовується для посилання на сам об'єкт, на якому викликається метод. self дозволяє отримати доступ до атрибутів та методів цього об'єкта всередині класу.\n",
        "Щодо методу __init__, я би порівняла його з констурктором в інших мовах програмування, який викликається автоматично при створенні нового екземпляру класу. Його основна мета - ініціалізація атрибутів об'єкта. Він дозволяє встановити початкові значення для атрибутів класу та виконати дії потрібні при створенні об'єкта."
      ],
      "metadata": {
        "id": "DyiPqNRvMasx"
      }
    },
    {
      "cell_type": "markdown",
      "source": [
        "5. (9б). Створіть клас Фігура без атрибутів, з методом get_area для отримання площі фігури, що повертає 0 та __add __, який приймає self та other в якості аргументів, а повертає суму площин фігур self та other."
      ],
      "metadata": {
        "id": "-6X8EGfjMd2y"
      }
    },
    {
      "cell_type": "code",
      "source": [
        "class Figure:\n",
        "  def get_area(self):\n",
        "    return 0\n",
        "\n",
        "  def __add__(self, other):\n",
        "    return self.get_area() + other.get_area()\n",
        "\n",
        "fig = Figure()\n",
        "fig2 = Figure()\n",
        "print(fig.__add__(fig2))"
      ],
      "metadata": {
        "id": "4rvO_wYUMaEr",
        "colab": {
          "base_uri": "https://localhost:8080/"
        },
        "outputId": "1eb4c6ad-9ab6-4c9d-d9a5-2016b89d4372"
      },
      "execution_count": 11,
      "outputs": [
        {
          "output_type": "stream",
          "name": "stdout",
          "text": [
            "0\n"
          ]
        }
      ]
    },
    {
      "cell_type": "markdown",
      "source": [
        "6. (11б). Створіть 2 дочірніх класи від Фігури: Трикутник та Коло, які мають атрибути, необхідні для розрахунку площин. Визначте метод get_area в кожному з них так, щоби вони розраховували площу в залежності від формули для кожного типу фігури. Створіть обʼєкт класу Трикутник та обʼєкт класу Коло. Виконайте операцію суми за допомогою оператора + між ними."
      ],
      "metadata": {
        "id": "SFcKnnv5Mo_z"
      }
    },
    {
      "cell_type": "code",
      "source": [
        "class Triangle(Figure):\n",
        "  def __init__(self, a, b, c):\n",
        "    self.a = a\n",
        "    self.b = b\n",
        "    self.c = c\n",
        "  def get_area(self):\n",
        "    p = (self.a + self.b + self.c) / 2\n",
        "    s = (p * (p - self.a) * (p - self.b) * (p - self.c)) ** 0.5\n",
        "    return s\n",
        "  def description(self):\n",
        "    print(f\"Triange with sides {self.a}, {self.b}, {self.c}, area = {self.get_area()}\")\n",
        "\n",
        "class Circle(Figure):\n",
        "  def __init__(self, radius):\n",
        "    self.radius = radius\n",
        "\n",
        "  def get_area(self):\n",
        "    return 3.14*(self.radius ** 2)\n",
        "  def description(self):\n",
        "    print(f\"Circle with radius {self.radius}, area = {self.get_area()}\")\n",
        "\n",
        "\n",
        "\n",
        "t1 = Triangle(5, 6, 7)\n",
        "t1.description()\n",
        "t2 = Triangle(8, 8, 8)\n",
        "t2.description()\n",
        "\n",
        "c1 = Circle(5)\n",
        "c1.description()\n",
        "print(\"Оператор + додає значення площ двух різних об'єктів: \", t1+c1)"
      ],
      "metadata": {
        "id": "H3GVNr69Muf3",
        "colab": {
          "base_uri": "https://localhost:8080/"
        },
        "outputId": "87d46552-1a08-4c08-c295-f31422a62229"
      },
      "execution_count": 28,
      "outputs": [
        {
          "output_type": "stream",
          "name": "stdout",
          "text": [
            "Triange with sides 5, 6, 7, area = 14.696938456699069\n",
            "Triange with sides 8, 8, 8, area = 27.712812921102035\n",
            "Circle with radius 5, area = 78.5\n",
            "Оператор + додає значення площ двух різних об'єктів:  93.19693845669907\n"
          ]
        }
      ]
    },
    {
      "cell_type": "markdown",
      "source": [
        "7. (3б). Продемонструйте різницю між isinstance та issubclass."
      ],
      "metadata": {
        "id": "HCvR206YMvLK"
      }
    },
    {
      "cell_type": "code",
      "source": [
        "print(\"Функція isinstance() перевіряє, чи є об’єкт (перший аргумент) екземпляром/об’єктом або підкласом класу (другий аргумент)\\nФункція issubclass() в Python використовується для перевірки того, чи є клас підкласом іншого класу, чи ні.\\n\")\n",
        "print(\"issubclass()  isinstance()\")\n",
        "print(issubclass(Triangle, Figure), \"        \", isinstance(Triangle, Figure), \"      Triangle, Figure\")\n",
        "print(issubclass(Triangle, list), \"       \", isinstance(Triangle, list), \"      Triangle, list\")\n",
        "print(issubclass(Triangle, (list, Figure)), \"        \", isinstance(Triangle, (list, Figure)), \"      Triangle, (list, Figure)\")\n",
        "print(issubclass(Figure, (list, Figure)), \"        \", isinstance(Figure, (list, Figure)), \"      Figure, (list, Figure)\")\n",
        "print(\"Error\", \"       \", isinstance(t1, Triangle), \"       t1, Triangle\")\n",
        "print(\"Error\", \"       \", isinstance(t1, Circle), \"      t1, Circle\")\n",
        "print(\"Error\", \"       \", isinstance(t1, Figure), \"       t1, Figure\")"
      ],
      "metadata": {
        "id": "L_V1bBvDM0GN",
        "colab": {
          "base_uri": "https://localhost:8080/"
        },
        "outputId": "066445f7-e033-4c61-a849-37fbf4a0659d"
      },
      "execution_count": 77,
      "outputs": [
        {
          "output_type": "stream",
          "name": "stdout",
          "text": [
            "Функція isinstance() перевіряє, чи є об’єкт (перший аргумент) екземпляром/об’єктом або підкласом класу (другий аргумент)\n",
            "Функція issubclass() в Python використовується для перевірки того, чи є клас підкласом іншого класу, чи ні.\n",
            "\n",
            "issubclass()  isinstance()\n",
            "True          False       Triangle, Figure\n",
            "False         False       Triangle, list\n",
            "True          False       Triangle, (list, Figure)\n",
            "True          False       Figure, (list, Figure)\n",
            "Error         True        t1, Triangle\n",
            "Error         False       t1, Circle\n",
            "Error         True        t1, Figure\n"
          ]
        }
      ]
    },
    {
      "cell_type": "markdown",
      "source": [
        "8. (13б). Створіть клас BankAccount з приватними атрибутами balance та account_number. Реалізуйте методи поповнення та зняття коштів, забезпечивши належну інкапсуляцію. Підказка: використовуйте декоратори property та setter."
      ],
      "metadata": {
        "id": "jjsaBZ-iM0Qq"
      }
    },
    {
      "cell_type": "code",
      "source": [
        "class BankAccount:\n",
        "    def __init__(self, account_number, initial_balance=0.0):\n",
        "        self.__account_number = account_number  # приватний атрибут з підкресленням\n",
        "        self.__balance = initial_balance  # приватний атрибут з підкресленням\n",
        "\n",
        "    @property\n",
        "    def balance(self):\n",
        "        return self.__balance\n",
        "\n",
        "    @property\n",
        "    def account_number(self):\n",
        "        return self.__account_number\n",
        "\n",
        "    @balance.setter\n",
        "    def balance(self, new_balance):\n",
        "        if new_balance < 0:\n",
        "            print(\"Неможливо встановити від'ємний баланс.\")\n",
        "        else:\n",
        "            self.__balance = new_balance\n",
        "\n",
        "    def deposit(self, amount):\n",
        "        if amount > 0:\n",
        "            self.__balance += amount\n",
        "            print(f\"Внесено {amount} грн. Баланс: {self.__balance} грн.\")\n",
        "        else:\n",
        "            print(\"Сума внесення повинна бути більше 0.\")\n",
        "\n",
        "    def withdraw(self, amount):\n",
        "        if 0 < amount <= self.__balance:\n",
        "            self.__balance -= amount\n",
        "            print(f\"Знято {amount} грн. Баланс: {self.__balance} грн.\")\n",
        "        else:\n",
        "            print(\"Недостатньо коштів\")\n",
        "\n",
        "account = BankAccount(123456789, 1000.0)\n",
        "\n",
        "print(\"Номер рахунку:\", account.account_number)\n",
        "print(\"Початковий баланс:\", account.balance)\n",
        "\n",
        "account.deposit(500)\n",
        "account.withdraw(200)\n",
        "account.balance = 1500\n",
        "\n",
        "print(\"Кінцевий баланс:\", account.balance)\n"
      ],
      "metadata": {
        "id": "xCvZ7lh8M7YA",
        "colab": {
          "base_uri": "https://localhost:8080/"
        },
        "outputId": "5886416d-a90d-4317-d062-15f9ea719c06"
      },
      "execution_count": 87,
      "outputs": [
        {
          "output_type": "stream",
          "name": "stdout",
          "text": [
            "Номер рахунку: 123456789\n",
            "Початковий баланс: 1000.0\n",
            "Внесено 500 грн. Баланс: 1500.0 грн.\n",
            "Знято 200 грн. Баланс: 1300.0 грн.\n",
            "Кінцевий баланс: 1500\n"
          ]
        }
      ]
    },
    {
      "cell_type": "markdown",
      "source": [
        "9. (11б). Створіть клас Library, який містить список об'єктів типу Book. Реалізуйте методи для додавання книги, видалення книги та відображення списку книг."
      ],
      "metadata": {
        "id": "tIzL2SJTM8ft"
      }
    },
    {
      "cell_type": "code",
      "source": [
        "class Book:\n",
        "  def __init__(self, title, author):\n",
        "    self.title = title\n",
        "    self.author = author\n",
        "\n",
        "\n",
        "class Library:\n",
        "  def __init__(self):\n",
        "    self.books = []\n",
        "\n",
        "  def add_book(self, book):\n",
        "    self.books.append(book)\n",
        "    print(f\"Книга '{book.title}' додана до бібліотеки.\")\n",
        "\n",
        "  def delete_book(self, title):\n",
        "    for i in self.books:\n",
        "      if i.title == title:\n",
        "        self.books.remove(i)\n",
        "        print(f\"Книга '{title}' видалена з бібліотеки.\")\n",
        "        return\n",
        "    print(f\"В бібліотеці вже немає такої кники {title}\")\n",
        "\n",
        "\n",
        "  def display_books(self):\n",
        "        if not self.books:\n",
        "            print(\"У бібліотеці немає жодної книги.\")\n",
        "        else:\n",
        "            print(\"Список книг в бібліотеці:\")\n",
        "            for book in self.books:\n",
        "                print(f\"{book.title} - {book.author}\")\n",
        "\n",
        "library = Library()\n",
        "\n",
        "book1 = Book(\"The Catcher in the Rye\", \"J.D. Salinger\")\n",
        "book2 = Book(\"To Kill a Mockingbird\", \"Harper Lee\")\n",
        "book3 = Book(\"1984\", \"George Orwell\")\n",
        "\n",
        "library.add_book(book1)\n",
        "library.add_book(book2)\n",
        "library.add_book(book3)\n",
        "print(\"\\n\")\n",
        "library.display_books()\n",
        "print(\"\\n\")\n",
        "library.delete_book(\"To Kill a Mockingbird\")\n",
        "library.delete_book(\"To Kill\")\n",
        "print(\"\\n\")\n",
        "library.display_books()"
      ],
      "metadata": {
        "id": "HWxfJKLtNAUZ",
        "colab": {
          "base_uri": "https://localhost:8080/"
        },
        "outputId": "3981f346-c1aa-42ec-ed1d-085b4f8ec876"
      },
      "execution_count": 105,
      "outputs": [
        {
          "output_type": "stream",
          "name": "stdout",
          "text": [
            "Книга 'The Catcher in the Rye' додана до бібліотеки.\n",
            "Книга 'To Kill a Mockingbird' додана до бібліотеки.\n",
            "Книга '1984' додана до бібліотеки.\n",
            "\n",
            "\n",
            "Список книг в бібліотеці:\n",
            "The Catcher in the Rye - J.D. Salinger\n",
            "To Kill a Mockingbird - Harper Lee\n",
            "1984 - George Orwell\n",
            "\n",
            "\n",
            "Книга 'To Kill a Mockingbird' видалена з бібліотеки.\n",
            "В бібліотеці вже немає такої кники To Kill\n",
            "\n",
            "\n",
            "Список книг в бібліотеці:\n",
            "The Catcher in the Rye - J.D. Salinger\n",
            "1984 - George Orwell\n"
          ]
        }
      ]
    },
    {
      "cell_type": "markdown",
      "source": [
        "10. (13б). Створіть клас Person з атрибутами name та age. Створіть ще один клас Employee з такими атрибутами, як department та salary. Створіть клас Manager, який успадковує обидва класи Person та Employee. Продемонструйте використання множинної спадковості, створивши обʼєкт класу Manager та отримавши mro для цього класу."
      ],
      "metadata": {
        "id": "lmV8pAwwNIqu"
      }
    },
    {
      "cell_type": "code",
      "source": [
        "class Person:\n",
        "  def __init__(self, name, age):\n",
        "    self.age = age\n",
        "    self.name = name\n",
        "\n",
        "class Employee:\n",
        "  def __init__(self, department, salary):\n",
        "    self.department = department\n",
        "    self.salary = salary\n",
        "\n",
        "class Manager(Person, Employee):\n",
        "  def __init__(self, name, age, department, salary):\n",
        "    Person.__init__(self, name, age)\n",
        "    Employee.__init__(self, department, salary)\n",
        "\n",
        "m1 = Manager(\"Igor\", 34, \"Bbcos\", 50000)\n",
        "print(\"MRO для класу Manager:\", Manager.mro())"
      ],
      "metadata": {
        "id": "R49grKlWNPeN",
        "colab": {
          "base_uri": "https://localhost:8080/"
        },
        "outputId": "16a6497a-894e-4605-c488-52316460b059"
      },
      "execution_count": 114,
      "outputs": [
        {
          "output_type": "stream",
          "name": "stdout",
          "text": [
            "MRO для класу Manager: [<class '__main__.Manager'>, <class '__main__.Person'>, <class '__main__.Employee'>, <class 'object'>]\n"
          ]
        }
      ]
    },
    {
      "cell_type": "markdown",
      "source": [
        "# II. Iterator"
      ],
      "metadata": {
        "id": "dIJyUiNBFG8G"
      }
    },
    {
      "cell_type": "markdown",
      "source": [
        "11. (4б). Визначте рядок(str) з 4ма різними за значенням символами. Створіть ітератор на основі цього рядка. Викличте 5 разів функцію next на ітераторі, 4ри перших з них огорніть у ф-цію print()."
      ],
      "metadata": {
        "id": "13vsm0NyKIzL"
      }
    },
    {
      "cell_type": "code",
      "source": [
        "s = \"abcd\"\n",
        "iterator = iter(s)\n",
        "print(next(iterator))\n",
        "print(next(iterator))\n",
        "print(next(iterator))\n",
        "print(next(iterator))\n",
        "next(iterator) # отримали помилку"
      ],
      "metadata": {
        "id": "81ntabAkKuz-",
        "colab": {
          "base_uri": "https://localhost:8080/",
          "height": 245
        },
        "outputId": "1103541a-6ba6-4a8c-fb07-6943a180eaed"
      },
      "execution_count": 120,
      "outputs": [
        {
          "output_type": "stream",
          "name": "stdout",
          "text": [
            "a\n",
            "b\n",
            "c\n",
            "d\n"
          ]
        },
        {
          "output_type": "error",
          "ename": "StopIteration",
          "evalue": "",
          "traceback": [
            "\u001b[0;31m---------------------------------------------------------------------------\u001b[0m",
            "\u001b[0;31mStopIteration\u001b[0m                             Traceback (most recent call last)",
            "\u001b[0;32m<ipython-input-120-4e48355e0c65>\u001b[0m in \u001b[0;36m<cell line: 7>\u001b[0;34m()\u001b[0m\n\u001b[1;32m      5\u001b[0m \u001b[0mprint\u001b[0m\u001b[0;34m(\u001b[0m\u001b[0mnext\u001b[0m\u001b[0;34m(\u001b[0m\u001b[0miterator\u001b[0m\u001b[0;34m)\u001b[0m\u001b[0;34m)\u001b[0m\u001b[0;34m\u001b[0m\u001b[0;34m\u001b[0m\u001b[0m\n\u001b[1;32m      6\u001b[0m \u001b[0mprint\u001b[0m\u001b[0;34m(\u001b[0m\u001b[0mnext\u001b[0m\u001b[0;34m(\u001b[0m\u001b[0miterator\u001b[0m\u001b[0;34m)\u001b[0m\u001b[0;34m)\u001b[0m\u001b[0;34m\u001b[0m\u001b[0;34m\u001b[0m\u001b[0m\n\u001b[0;32m----> 7\u001b[0;31m \u001b[0mnext\u001b[0m\u001b[0;34m(\u001b[0m\u001b[0miterator\u001b[0m\u001b[0;34m)\u001b[0m \u001b[0;31m# отримали помилку\u001b[0m\u001b[0;34m\u001b[0m\u001b[0;34m\u001b[0m\u001b[0m\n\u001b[0m",
            "\u001b[0;31mStopIteration\u001b[0m: "
          ]
        }
      ]
    },
    {
      "cell_type": "markdown",
      "source": [
        "А що якщо викликати цю ж функцію на рядку?"
      ],
      "metadata": {
        "id": "aekWHGXOLRsO"
      }
    },
    {
      "cell_type": "code",
      "source": [
        "print(\"str' object is not an iterator\")\n",
        "print(next(s))\n",
        "\n"
      ],
      "metadata": {
        "id": "mxATGsErLV1i",
        "colab": {
          "base_uri": "https://localhost:8080/",
          "height": 193
        },
        "outputId": "c49fa8be-6d8b-4c1c-dc92-f566ac1197df"
      },
      "execution_count": 122,
      "outputs": [
        {
          "output_type": "stream",
          "name": "stdout",
          "text": [
            "str' object is not an iterator\n"
          ]
        },
        {
          "output_type": "error",
          "ename": "TypeError",
          "evalue": "'str' object is not an iterator",
          "traceback": [
            "\u001b[0;31m---------------------------------------------------------------------------\u001b[0m",
            "\u001b[0;31mTypeError\u001b[0m                                 Traceback (most recent call last)",
            "\u001b[0;32m<ipython-input-122-5ea0c7f6ac88>\u001b[0m in \u001b[0;36m<cell line: 2>\u001b[0;34m()\u001b[0m\n\u001b[1;32m      1\u001b[0m \u001b[0mprint\u001b[0m\u001b[0;34m(\u001b[0m\u001b[0;34m\"str' object is not an iterator\"\u001b[0m\u001b[0;34m)\u001b[0m\u001b[0;34m\u001b[0m\u001b[0;34m\u001b[0m\u001b[0m\n\u001b[0;32m----> 2\u001b[0;31m \u001b[0mprint\u001b[0m\u001b[0;34m(\u001b[0m\u001b[0mnext\u001b[0m\u001b[0;34m(\u001b[0m\u001b[0ms\u001b[0m\u001b[0;34m)\u001b[0m\u001b[0;34m)\u001b[0m\u001b[0;34m\u001b[0m\u001b[0;34m\u001b[0m\u001b[0m\n\u001b[0m\u001b[1;32m      3\u001b[0m \u001b[0;34m\u001b[0m\u001b[0m\n",
            "\u001b[0;31mTypeError\u001b[0m: 'str' object is not an iterator"
          ]
        }
      ]
    },
    {
      "cell_type": "markdown",
      "source": [
        " 12. (5б). Опишіть своїми словами в одному реченні, як ви розумієте різницю між ітерабельними обʼєктами та ітераторами (можна на прикладі)."
      ],
      "metadata": {
        "id": "XwtMEopwJ4pH"
      }
    },
    {
      "cell_type": "markdown",
      "source": [
        "\n",
        "Ітерабельні об'єкти - це ті, що можна перебирати, використовуючи цикл, функцію for, а ітератори - це метод використовуючи який  ми можемо перебирати об’єкти та повертати їх елементи."
      ],
      "metadata": {
        "id": "-sHrODc3KFn8"
      }
    },
    {
      "cell_type": "markdown",
      "source": [
        "13. (11б). Створіть клас, що має визначений Iterator Protocol та при кожному виклику next повертає літери англійської абетки, поки вони не вичерпаються."
      ],
      "metadata": {
        "id": "E9qJWmNbK8Gl"
      }
    },
    {
      "cell_type": "code",
      "source": [
        "class AlphabetIterator:\n",
        "    def __init__(self):\n",
        "        self.current_letter = ord('A')\n",
        "\n",
        "    def __iter__(self):\n",
        "        return self\n",
        "\n",
        "    def __next__(self):\n",
        "        if self.current_letter <= ord('Z'):\n",
        "            letter = chr(self.current_letter)\n",
        "            self.current_letter += 1\n",
        "            return letter\n",
        "        else:\n",
        "            raise StopIteration\n",
        "\n",
        "class Alphabet:\n",
        "    def __iter__(self):\n",
        "        return AlphabetIterator()\n",
        "\n",
        "alphabet = Alphabet()\n",
        "\n",
        "for letter in alphabet:\n",
        "    print(letter)\n"
      ],
      "metadata": {
        "id": "cqx-g_RsLo6I",
        "colab": {
          "base_uri": "https://localhost:8080/"
        },
        "outputId": "2db48a2a-4d6a-4714-da83-479e8daaf87a"
      },
      "execution_count": 123,
      "outputs": [
        {
          "output_type": "stream",
          "name": "stdout",
          "text": [
            "A\n",
            "B\n",
            "C\n",
            "D\n",
            "E\n",
            "F\n",
            "G\n",
            "H\n",
            "I\n",
            "J\n",
            "K\n",
            "L\n",
            "M\n",
            "N\n",
            "O\n",
            "P\n",
            "Q\n",
            "R\n",
            "S\n",
            "T\n",
            "U\n",
            "V\n",
            "W\n",
            "X\n",
            "Y\n",
            "Z\n"
          ]
        }
      ]
    },
    {
      "cell_type": "markdown",
      "source": [
        "# Вітаю! Ви велика(ий) молодець, що впоралась(вся). Похваліть себе та побалуйте чимось приємним. Я Вами пишаюся."
      ],
      "metadata": {
        "id": "Z3E3S_s1Fv7-"
      }
    }
  ]
}