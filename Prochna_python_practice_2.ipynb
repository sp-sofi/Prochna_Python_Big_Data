{
  "nbformat": 4,
  "nbformat_minor": 0,
  "metadata": {
    "colab": {
      "provenance": []
    },
    "kernelspec": {
      "name": "python3",
      "display_name": "Python 3"
    },
    "language_info": {
      "name": "python"
    }
  },
  "cells": [
    {
      "cell_type": "markdown",
      "source": [
        "# I. Змінні та памʼять."
      ],
      "metadata": {
        "id": "p9wwt0LZzNvn"
      }
    },
    {
      "cell_type": "markdown",
      "source": [
        "1. Створити змінні, що посилаються на два цілих числа, що однакові за значенням, де значення належить проміжку від -5 до 256. Перевірте, чи будуть ці змінні рівні тільки за значенням або ж ще будуть посилатися на один і той самий обʼєкт в памʼяті? Наведіть код та дайте текстову відповідь нижче."
      ],
      "metadata": {
        "id": "HTJrrm95xSV9"
      }
    },
    {
      "cell_type": "code",
      "execution_count": null,
      "metadata": {
        "id": "TATni2vzayjG",
        "colab": {
          "base_uri": "https://localhost:8080/"
        },
        "outputId": "fdf58345-6017-43c1-e26f-359267cc1099"
      },
      "outputs": [
        {
          "output_type": "stream",
          "name": "stdout",
          "text": [
            "a =  19 b =  19\n",
            "Рівні за значеннням:  True\n",
            "id a =  132703427330864 id b =  132703427330864\n",
            "Посилаються на один і той самий обʼєкт:  True\n"
          ]
        }
      ],
      "source": [
        "a = 19\n",
        "b = 19\n",
        "print('a = ', a, 'b = ', b)\n",
        "print('Рівні за значеннням: ', a == b)\n",
        "print('id a = ', id(a), 'id b = ', id(b))\n",
        "print('Посилаються на один і той самий обʼєкт: ', id(a) == id(b))\n"
      ]
    },
    {
      "cell_type": "markdown",
      "source": [
        "Змнні, які ми створили рівні за значеннямм = 19 та посилаються на один і той самий обʼєкт в памʼяті"
      ],
      "metadata": {
        "id": "zfRG_o3WbRdg"
      }
    },
    {
      "cell_type": "markdown",
      "source": [
        "2. За допомогою якої функції можна перевірити належність змінної до вказаного типу даних (напр. чи змінна True посилається на значення булевого та цілочисленого типу)?"
      ],
      "metadata": {
        "id": "ISORzt6M3vAt"
      }
    },
    {
      "cell_type": "code",
      "source": [
        "c = True\n",
        "v = 9\n",
        "print ('True is bool: ', isinstance(c, bool))\n",
        "print ('True is int: ',isinstance(c, int))"
      ],
      "metadata": {
        "id": "9vL9CFaMbfyo",
        "colab": {
          "base_uri": "https://localhost:8080/"
        },
        "outputId": "e9fc6b8e-4bcf-43e4-fc47-630f180b0d1f"
      },
      "execution_count": null,
      "outputs": [
        {
          "output_type": "stream",
          "name": "stdout",
          "text": [
            "True is bool:  True\n",
            "True is int:  True\n"
          ]
        }
      ]
    },
    {
      "cell_type": "markdown",
      "source": [
        "# II. Цілі числа та числа з рухомою комою"
      ],
      "metadata": {
        "id": "tRxugKAxwYLw"
      }
    },
    {
      "cell_type": "markdown",
      "source": [
        "3. Створити дві змінні, що посилаються на будь-які ціле число та число з рухомою комою та продемонструвати такі арифметичні операції: додавання, віднімання, ділення, множення, ділення без залишку, ділення по модулю, приведення до ступеню. Всі результати операцій вивести на екран."
      ],
      "metadata": {
        "id": "NLHkgd5Gybc8"
      }
    },
    {
      "cell_type": "code",
      "source": [
        "intNum = 12\n",
        "floatNum = 2.2\n",
        "print('int number = ', intNum, 'float Number = ', floatNum)\n",
        "print ('Додавання:', intNum + floatNum)\n",
        "print ('Віднімання:', intNum - floatNum)\n",
        "print ('Ділення:', intNum / floatNum)\n",
        "print ('Множення:', intNum * floatNum)\n",
        "print ('Ділення без залишку:', intNum // floatNum)\n",
        "print ('Ділення по модулю', intNum % floatNum)\n",
        "print ('Приведення до ступеню:', intNum ** floatNum)"
      ],
      "metadata": {
        "id": "nb8u_3pjb2cA",
        "colab": {
          "base_uri": "https://localhost:8080/"
        },
        "outputId": "79c60d3f-e13b-42aa-e3fa-f9ec0b686ea5"
      },
      "execution_count": null,
      "outputs": [
        {
          "output_type": "stream",
          "name": "stdout",
          "text": [
            "int number =  12 float Number =  2.2\n",
            "Додавання: 14.2\n",
            "Віднімання: 9.8\n",
            "Ділення: 5.454545454545454\n",
            "Множення: 26.400000000000002\n",
            "Ділення без залишку: 5.0\n",
            "Ділення по модулю 0.9999999999999991\n",
            "Приведення до ступеню: 236.7002634504806\n"
          ]
        }
      ]
    },
    {
      "cell_type": "markdown",
      "source": [
        "4. Використовуючи змінні з вправи 3, продемонструйте механізм явного перетворення типів, де числа з рухомою комою перетворюються на цілі числа. Також визначте змінну, що посилається на значення булевого типу і спробуйте явно привести її до цілого числа."
      ],
      "metadata": {
        "id": "1kBClKgPzZnC"
      }
    },
    {
      "cell_type": "code",
      "source": [
        "boolNum = True\n",
        "print('int number = ', intNum, 'float Number = ', floatNum, 'bool = ', boolNum)\n",
        "print('float to int: ', int(floatNum))\n",
        "print ('bool to int: ', int(boolNum))"
      ],
      "metadata": {
        "id": "TbqJbkeUcKsD",
        "colab": {
          "base_uri": "https://localhost:8080/"
        },
        "outputId": "e84f5de4-407f-467c-c958-b7de72118c8a"
      },
      "execution_count": null,
      "outputs": [
        {
          "output_type": "stream",
          "name": "stdout",
          "text": [
            "int number =  12 float Number =  2.2 bool =  True\n",
            "float to int:  2\n",
            "bool to int:  1\n"
          ]
        }
      ]
    },
    {
      "cell_type": "markdown",
      "source": [
        "# IІІ. Рядки (String)."
      ],
      "metadata": {
        "id": "EVJ7AflwxrZi"
      }
    },
    {
      "cell_type": "markdown",
      "source": [
        "5. Створити пустий рядок двома різними способами."
      ],
      "metadata": {
        "id": "_s5ECzz9zE61"
      }
    },
    {
      "cell_type": "code",
      "source": [
        "str1 = ''\n",
        "str2 = \"\""
      ],
      "metadata": {
        "id": "fkZJHu9Scvc-"
      },
      "execution_count": null,
      "outputs": []
    },
    {
      "cell_type": "markdown",
      "source": [
        "6. Створити рядок з апострофом. Зробити його сирим. Вивести обидва рядка на екран."
      ],
      "metadata": {
        "id": "4Bdn9J3MzLf_"
      }
    },
    {
      "cell_type": "code",
      "source": [
        "str3 = 'stʼring'\n",
        "str4 = r\"\" + str3\n",
        "print(str3)\n",
        "print(str4)"
      ],
      "metadata": {
        "id": "ivji_hsmc0GH",
        "colab": {
          "base_uri": "https://localhost:8080/"
        },
        "outputId": "68a51d64-d656-4743-d3a3-87acb5329374"
      },
      "execution_count": null,
      "outputs": [
        {
          "output_type": "stream",
          "name": "stdout",
          "text": [
            "stʼring\n",
            "stʼring\n"
          ]
        }
      ]
    },
    {
      "cell_type": "markdown",
      "source": [
        "7. Створити змінну, що буде посилатися на Ваше прізвище латинкою. Створити форматований рядок, який буде мати вигляд \"My surname is ______\", де на місці нижніх підкреслень буде Ваше прізвище зі змінної."
      ],
      "metadata": {
        "id": "bg_d8wM4z8dS"
      }
    },
    {
      "cell_type": "code",
      "source": [
        "surname = \"Prochna\"\n",
        "str5 = f\"My surname is {surname}\"\n",
        "print(str5)"
      ],
      "metadata": {
        "id": "kuxFgpWndACq",
        "colab": {
          "base_uri": "https://localhost:8080/"
        },
        "outputId": "7eab8f8b-4180-4379-ba6d-69a5c70d1cb3"
      },
      "execution_count": null,
      "outputs": [
        {
          "output_type": "stream",
          "name": "stdout",
          "text": [
            "My surname is Prochna\n"
          ]
        }
      ]
    },
    {
      "cell_type": "markdown",
      "source": [
        "8. Маючи рядок \"My dog is crazy.\" перетворити його на список [\"my\", \"dog\", \"is\", \"crazy\"]"
      ],
      "metadata": {
        "id": "1Nc6RqvQ0hxU"
      }
    },
    {
      "cell_type": "code",
      "source": [
        "str6 = \"My dog is crazy\"\n",
        "tokens = str6.lower().split(\" \")\n",
        "print(tokens)"
      ],
      "metadata": {
        "id": "w1Ya4RqedUhw",
        "colab": {
          "base_uri": "https://localhost:8080/"
        },
        "outputId": "866fdac6-ee20-4070-d9b3-f0730d646160"
      },
      "execution_count": null,
      "outputs": [
        {
          "output_type": "stream",
          "name": "stdout",
          "text": [
            "['my', 'dog', 'is', 'crazy']\n"
          ]
        }
      ]
    },
    {
      "cell_type": "markdown",
      "source": [
        "# IV. Робота зі списками."
      ],
      "metadata": {
        "id": "GYVqN9uP1D4n"
      }
    },
    {
      "cell_type": "markdown",
      "source": [
        "9. Створити список двома різними за синтаксисом способами. За допомогою вбудованої функції обчисліть довжину одного з них."
      ],
      "metadata": {
        "id": "7-DeDunw2sO-"
      }
    },
    {
      "cell_type": "code",
      "source": [
        "list1 = [1, 2, 3, 4, 5]\n",
        "list2 = list(range(8))\n",
        "print(list1, 'length is', len(list1))\n",
        "print(list2, 'length is', len(list2))"
      ],
      "metadata": {
        "id": "zxg06Uuxdyoh",
        "colab": {
          "base_uri": "https://localhost:8080/"
        },
        "outputId": "553bcbc1-303c-4e67-f57a-e263aa0441f2"
      },
      "execution_count": null,
      "outputs": [
        {
          "output_type": "stream",
          "name": "stdout",
          "text": [
            "[1, 2, 3, 4, 5] length is 5\n",
            "[0, 1, 2, 3, 4, 5, 6, 7] length is 8\n"
          ]
        }
      ]
    },
    {
      "cell_type": "markdown",
      "source": [
        "10. Створіть два списка та за допомогою спеціального методу додайте другий з них в якості останнього елемента першого."
      ],
      "metadata": {
        "id": "8vmGUTjL22gI"
      }
    },
    {
      "cell_type": "code",
      "source": [
        "list3 = [10, 20, 30 , 40, 50]\n",
        "list4 = [61, 62, 63, 64, 65]\n",
        "print('list 1: ', list3, 'list 2: ', list4)\n",
        "list3.extend(list4)\n",
        "print('List 1 after extending: ', list3)"
      ],
      "metadata": {
        "id": "uHtjWYw7d7hm",
        "colab": {
          "base_uri": "https://localhost:8080/"
        },
        "outputId": "aa95bb65-8b42-4230-f332-e2afcf90b950"
      },
      "execution_count": null,
      "outputs": [
        {
          "output_type": "stream",
          "name": "stdout",
          "text": [
            "list 1:  [10, 20, 30, 40, 50] list 2:  [61, 62, 63, 64, 65]\n",
            "List 1 after extending:  [10, 20, 30, 40, 50, 61, 62, 63, 64, 65]\n"
          ]
        }
      ]
    },
    {
      "cell_type": "markdown",
      "source": [
        "11. Створіть список, де елементами цього списку також є списки. Отримай перший елемент з останнього рядка та виведи значення на екран."
      ],
      "metadata": {
        "id": "JC3BkD-67_--"
      }
    },
    {
      "cell_type": "code",
      "source": [
        "list5 = [[1, 2, 3, 4, 5], [10, 20 , 30, 40, 50], [100, 200, 300, 400, 500]]\n",
        "el = list5[2][0]\n",
        "print(el)"
      ],
      "metadata": {
        "id": "Kz2jZHsGeLlz",
        "colab": {
          "base_uri": "https://localhost:8080/"
        },
        "outputId": "d92cea04-c9cb-40d2-e245-0f9ad7ae4db1"
      },
      "execution_count": null,
      "outputs": [
        {
          "output_type": "stream",
          "name": "stdout",
          "text": [
            "100\n"
          ]
        }
      ]
    },
    {
      "cell_type": "markdown",
      "source": [
        "12. Створіть список з десяти елементів різного типу. Отримайте всі елементи, окрім двох перших та двох останніх та збережіть їх в новій змінній."
      ],
      "metadata": {
        "id": "JA47PKTv8zFK"
      }
    },
    {
      "cell_type": "code",
      "source": [
        "list6 = ['hello', 1, 2.0, 'world', True, 10, 'a', False, 5, 4.4]\n",
        "smallerList6 = list6[2:-2]\n",
        "print(smallerList6)"
      ],
      "metadata": {
        "id": "_rHdUR-ueP4-",
        "colab": {
          "base_uri": "https://localhost:8080/"
        },
        "outputId": "63ed961b-18d8-4847-b053-921e53eac0f7"
      },
      "execution_count": null,
      "outputs": [
        {
          "output_type": "stream",
          "name": "stdout",
          "text": [
            "[2.0, 'world', True, 10, 'a', False]\n"
          ]
        }
      ]
    },
    {
      "cell_type": "markdown",
      "source": [
        "# V. Робота з кортежами."
      ],
      "metadata": {
        "id": "pCjR1dJb1Qbi"
      }
    },
    {
      "cell_type": "markdown",
      "source": [
        "14. Створити кортеж з один елементом."
      ],
      "metadata": {
        "id": "fAZCxAX06R_k"
      }
    },
    {
      "cell_type": "code",
      "source": [
        "tuple1 = (1,)\n",
        "print(tuple1)"
      ],
      "metadata": {
        "id": "H7d82WkQev3e",
        "colab": {
          "base_uri": "https://localhost:8080/"
        },
        "outputId": "cca6e108-3a71-4d60-e578-aacb3bac6f6d"
      },
      "execution_count": null,
      "outputs": [
        {
          "output_type": "stream",
          "name": "stdout",
          "text": [
            "(1,)\n"
          ]
        }
      ]
    },
    {
      "cell_type": "markdown",
      "source": [
        "15. Порівняйте список та кортеж. Назвіть схожості та відмінності, випадки використання."
      ],
      "metadata": {
        "id": "8LCtYcmI6w1M"
      }
    },
    {
      "cell_type": "markdown",
      "source": [
        "Спільне:\n",
        "*   Можуть зберігати різні типи даних\n",
        "*   Можна користуватись індексами\n",
        "*   Завдяки індексації можна ітеритуватись за допомогою циклів\n",
        "\n",
        "Відмінне:\n",
        "*   Списки - змінюванні, а кортежі - незмінюванні\n",
        "*   Списки створюються за допомогою [], а кортежі за допомогою ()\n",
        "\n",
        "\n",
        "\n",
        "\n"
      ],
      "metadata": {
        "id": "fUsN1Hnue0C6"
      }
    },
    {
      "cell_type": "markdown",
      "source": [
        "16. Створіть кортеж з 11ти елементів чисел з рухомою комою та отримайте кожен парний за індексом елемент в зворотньому порядку. Наприклад, маючи (1.2, 2.3, 3.3, 4.3, 5.3, 6.3, 7.3, 8.3, 9.3, 0.3), отримати (0.3, 8.3, 6.3, 4.3, 2.3). Результат збережіть в нову змінну та виведіть на екран."
      ],
      "metadata": {
        "id": "m0xrwFijAmDD"
      }
    },
    {
      "cell_type": "code",
      "source": [
        "tuple2 = (0.3, 1.4, 2.1, 3.4, 4.5, 5.6, 6.7, 7.2, 8.9, 9.1, 10.9)\n",
        "newList = []\n",
        "for i in range(len(tuple2)):\n",
        "  if(i % 2 != 0):\n",
        "    newList.append(tuple2[i])\n",
        "newList.reverse()\n",
        "tuple3 = tuple(newList)\n",
        "print(tuple3)\n"
      ],
      "metadata": {
        "id": "p-5DAH6XfAGA",
        "colab": {
          "base_uri": "https://localhost:8080/"
        },
        "outputId": "17d27a5f-0ed4-4b22-dab4-fb065e8e0923"
      },
      "execution_count": null,
      "outputs": [
        {
          "output_type": "stream",
          "name": "stdout",
          "text": [
            "(9.1, 7.2, 5.6, 3.4, 1.4)\n"
          ]
        }
      ]
    },
    {
      "cell_type": "markdown",
      "source": [
        "# VI. Множини (Set)."
      ],
      "metadata": {
        "id": "rW_I9dt3x6cW"
      }
    },
    {
      "cell_type": "markdown",
      "source": [
        "17. Створити множину без елементів. Після цого за допомогою методу додайте кілька різних елементів до множини. Чи множини є змінним типом даних?"
      ],
      "metadata": {
        "id": "zNjRLHLw1Bgg"
      }
    },
    {
      "cell_type": "code",
      "source": [
        "set1 = set()\n",
        "set1.add(2)\n",
        "set1.add(3.4)\n",
        "set1.add('AA')\n",
        "print(set1)"
      ],
      "metadata": {
        "id": "KOv7zc2Kfo4N",
        "colab": {
          "base_uri": "https://localhost:8080/"
        },
        "outputId": "e3a1376a-daf2-4a2e-a6fb-343ea8138c0a"
      },
      "execution_count": null,
      "outputs": [
        {
          "output_type": "stream",
          "name": "stdout",
          "text": [
            "{2, 3.4, 'AA'}\n"
          ]
        }
      ]
    },
    {
      "cell_type": "markdown",
      "source": [],
      "metadata": {
        "id": "8pGizDgSE-xv"
      }
    },
    {
      "cell_type": "markdown",
      "source": [
        "Так, множини є змінюваними типами, елементи в множині можна додавати або видаляти за допомогою спецільних методів add() та remove()."
      ],
      "metadata": {
        "id": "vxS6dVYiftZQ"
      }
    },
    {
      "cell_type": "markdown",
      "source": [
        "18. Створити множину, маючи список my_list = [1, 1, 2, 67, 67, 8, 9]. Пояснити, чому \"зникли\" деякі елементи."
      ],
      "metadata": {
        "id": "gHpT0Zw_1HEF"
      }
    },
    {
      "cell_type": "code",
      "source": [
        "my_list = [1, 1, 2, 67, 67, 8, 9]\n",
        "set3 = set(my_list)\n",
        "print(set3)"
      ],
      "metadata": {
        "id": "qCN4uvJ_fxmu",
        "colab": {
          "base_uri": "https://localhost:8080/"
        },
        "outputId": "64c2ad35-8331-47ba-d894-ceceb97f8660"
      },
      "execution_count": null,
      "outputs": [
        {
          "output_type": "stream",
          "name": "stdout",
          "text": [
            "{1, 2, 67, 8, 9}\n"
          ]
        }
      ]
    },
    {
      "cell_type": "code",
      "source": [],
      "metadata": {
        "id": "3AGlea47KCwp"
      },
      "execution_count": null,
      "outputs": []
    },
    {
      "cell_type": "markdown",
      "source": [
        "Деякі елементи зникли, через те, що елементи в множині не можуть дублюватися"
      ],
      "metadata": {
        "id": "tFNc1e20fyny"
      }
    },
    {
      "cell_type": "markdown",
      "source": [
        "19. Створіть дві множини. Продемонстуйте над ними операції: обʼєднання, різниці, пересічі та симетричної різниці. Використовуйте методи, що не змінюють множини, а створюють нові."
      ],
      "metadata": {
        "id": "SRMkGizS1UwY"
      }
    },
    {
      "cell_type": "code",
      "source": [
        "set4 = {1, 2, 3, 4, 5}\n",
        "set5 = {4, 5, 6, 7, 8}\n",
        "unionSet = set4.union(set5)\n",
        "differenceSet = set4.difference(set5)\n",
        "intersectionSet=set4.intersection(set5)\n",
        "symDiffSet = set4.symmetric_difference(set5)\n",
        "\n",
        "print('Set 1: ', set4, 'Set 2: ', set5)\n",
        "print('Union: ', unionSet)\n",
        "print('Differnce: ', differenceSet)\n",
        "print('Intersection: ', intersectionSet)\n",
        "print('Symetric difference: ', symDiffSet)\n"
      ],
      "metadata": {
        "id": "h0T-VuDnf3Ri",
        "colab": {
          "base_uri": "https://localhost:8080/"
        },
        "outputId": "f6bb8c7a-b110-423f-fea1-badbedfa277b"
      },
      "execution_count": null,
      "outputs": [
        {
          "output_type": "stream",
          "name": "stdout",
          "text": [
            "Set 1:  {1, 2, 3, 4, 5} Set 2:  {4, 5, 6, 7, 8}\n",
            "Union:  {1, 2, 3, 4, 5, 6, 7, 8}\n",
            "Differnce:  {1, 2, 3}\n",
            "Intersection:  {4, 5}\n",
            "Symetric difference:  {1, 2, 3, 6, 7, 8}\n"
          ]
        }
      ]
    },
    {
      "cell_type": "markdown",
      "source": [
        "# VII. Словники (Dictionary)."
      ],
      "metadata": {
        "id": "kWc8gkzTx7Ea"
      }
    },
    {
      "cell_type": "markdown",
      "source": [
        "20. Створіть пустий словник. До нього додайте чотири пари елементів такі, щоб їхні ключі були різних типів. Чи може список бути ключем? Чому?"
      ],
      "metadata": {
        "id": "i5FLwj-B2ybQ"
      }
    },
    {
      "cell_type": "code",
      "source": [
        "dict1 = {}\n",
        "dict1[1] = \"ONE\"\n",
        "dict1[\"TWO\"] = 2\n",
        "dict1[3.3] = \"THREE\"\n",
        "dict1[(\"f\", \"\")] = 4\n",
        "print(dict1)"
      ],
      "metadata": {
        "id": "hxgv3BzrgLAV",
        "colab": {
          "base_uri": "https://localhost:8080/"
        },
        "outputId": "b868e078-4a91-447a-cd19-66a127ea1ac4"
      },
      "execution_count": null,
      "outputs": [
        {
          "output_type": "stream",
          "name": "stdout",
          "text": [
            "{1: 'ONE', 'TWO': 2, 3.3: 'THREE', ('f', 'F'): 4}\n"
          ]
        }
      ]
    },
    {
      "cell_type": "markdown",
      "source": [
        "Ключі у словнику не можуть бути списками, тому що списки змінювані. А ключі мають бути незмінюваних типів. Якщо спробувати список зробити ключем, то ми отримаємо помилку"
      ],
      "metadata": {
        "id": "zwa7UVN-gR3m"
      }
    },
    {
      "cell_type": "markdown",
      "source": [
        "21. Створіть словник, де значенням в одній з пар теж буде словник, який теж має вкладений словник. Виведіть на екран значення, що міститься в словнику, що знаходиться на найнижчому рівні ієрархії вкладеності (найбільш внутрішній)."
      ],
      "metadata": {
        "id": "WM_pMlJsgoNf"
      }
    },
    {
      "cell_type": "code",
      "source": [
        "dict2 = {\"Nepal\": \"Kathmandu\", \"Italy\": {111: \"Eric\", 112: \"Kyle\", 113: \"Butters\"}}\n",
        "dict3 = {1: 1, 3: 9, 5: 25, 7: 49, 9: dict2}\n",
        "print(dict3)\n",
        "print(dict3[9][\"Italy\"].values())\n"
      ],
      "metadata": {
        "id": "60dlP7IHhAy4",
        "colab": {
          "base_uri": "https://localhost:8080/"
        },
        "outputId": "6b405efb-c397-468a-c0a8-de95533525eb"
      },
      "execution_count": null,
      "outputs": [
        {
          "output_type": "stream",
          "name": "stdout",
          "text": [
            "{1: 1, 3: 9, 5: 25, 7: 49, 9: {'Nepal': 'Kathmandu', 'Italy': {111: 'Eric', 112: 'Kyle', 113: 'Butters'}}}\n",
            "dict_values(['Eric', 'Kyle', 'Butters'])\n"
          ]
        }
      ]
    },
    {
      "cell_type": "markdown",
      "source": [
        "# Вітаю! Ви велика(ий) молодець, що впоралась(вся). Похваліть себе та побалуйте чимось приємним. Я Вами пишаюся."
      ],
      "metadata": {
        "id": "xOZP0hkx6cCr"
      }
    }
  ]
}